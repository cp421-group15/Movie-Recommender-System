{
 "cells": [
  {
   "cell_type": "code",
   "execution_count": 84,
   "metadata": {},
   "outputs": [],
   "source": [
    "import numpy as np\n",
    "import matplotlib.pyplot as plt\n",
    "import pandas as pd\n",
    "import seaborn as sns\n",
    "\n",
    "from surprise import accuracy\n",
    "from surprise import SVD\n",
    "from surprise import Reader\n",
    "from surprise import Dataset\n",
    "from surprise.model_selection import PredefinedKFold, GridSearchCV, train_test_split, cross_validate"
   ]
  },
  {
   "cell_type": "code",
   "execution_count": 90,
   "metadata": {},
   "outputs": [],
   "source": [
    "'''\n",
    "http://files.grouplens.org/datasets/movielens/ml-100k-README.txt\n",
    "'''\n",
    "\n",
    "# Attributes in the data file are tab separated (\\t).\n",
    "# User = user_id\n",
    "# Item = item_id\n",
    "# Rating = rating\n",
    "# Timestamp = timestamp\n",
    "reader = Reader(line_format=\"user item rating timestamp\", sep=\"\\t\", rating_scale=(1,5))\n",
    "\n",
    "train_set = Dataset.load_from_file('./ml-100k/u1.base', reader=reader)"
   ]
  },
  {
   "cell_type": "code",
   "execution_count": 91,
   "metadata": {},
   "outputs": [
    {
     "name": "stdout",
     "output_type": "stream",
     "text": [
      "Evaluating RMSE, MAE of algorithm SVD on 5 split(s).\n",
      "\n",
      "                  Fold 1  Fold 2  Fold 3  Fold 4  Fold 5  Mean    Std     \n",
      "RMSE (testset)    0.9450  0.9428  0.9452  0.9492  0.9512  0.9467  0.0031  \n",
      "MAE (testset)     0.7467  0.7422  0.7448  0.7492  0.7530  0.7472  0.0037  \n",
      "Fit time          4.63    4.84    4.45    4.85    4.77    4.71    0.15    \n",
      "Test time         0.19    0.18    0.19    0.22    0.18    0.19    0.02    \n"
     ]
    }
   ],
   "source": [
    "# Baseline SVD model\n",
    "algorithm = SVD()\n",
    "\n",
    "# Run 10-fold cross-validation and print results\n",
    "baseline_results = cross_validate(algorithm, train_set, measures=['RMSE', 'MAE'], cv=5, verbose=True)"
   ]
  },
  {
   "cell_type": "markdown",
   "metadata": {},
   "source": [
    "As there are many hyperparameters, the hyperparamters search can take a very long time. Therefore, we will tune smaller groups of hyperparameters one after another in order to get results in reasonable time. The final set of hyperparameters may not be the best, but they still show slight improvement over the baseline model."
   ]
  },
  {
   "cell_type": "markdown",
   "metadata": {},
   "source": [
    "##### Tune the number of epochs and regularisation constant"
   ]
  },
  {
   "cell_type": "code",
   "execution_count": 21,
   "metadata": {},
   "outputs": [],
   "source": [
    "param_grid = {'n_epochs': [40, 80],\n",
    "              'reg_all': [0.1, 0.15, 0.2, 0.25, 0.5]}\n",
    "gs = GridSearchCV(SVD, param_grid, measures=['rmse', 'mae'], cv=5)\n",
    "\n",
    "gs.fit(train_set)"
   ]
  },
  {
   "cell_type": "code",
   "execution_count": 22,
   "metadata": {},
   "outputs": [
    {
     "data": {
      "text/plain": [
       "{'rmse': {'n_epochs': 80, 'reg_all': 0.1},\n",
       " 'mae': {'n_epochs': 80, 'reg_all': 0.1}}"
      ]
     },
     "execution_count": 22,
     "metadata": {},
     "output_type": "execute_result"
    }
   ],
   "source": [
    "gs.best_params"
   ]
  },
  {
   "cell_type": "code",
   "execution_count": 23,
   "metadata": {},
   "outputs": [
    {
     "data": {
      "text/plain": [
       "{'rmse': 0.9202596364472443, 'mae': 0.727769481687971}"
      ]
     },
     "execution_count": 23,
     "metadata": {},
     "output_type": "execute_result"
    }
   ],
   "source": [
    "gs.best_score"
   ]
  },
  {
   "cell_type": "code",
   "execution_count": 24,
   "metadata": {},
   "outputs": [],
   "source": [
    "tuning_epoch_and_reg_results = gs.cv_results\n",
    "tuning_epoch_and_reg_df = pd.DataFrame.from_dict(tuning_epoch_and_reg_results)"
   ]
  },
  {
   "cell_type": "code",
   "execution_count": 31,
   "metadata": {},
   "outputs": [],
   "source": [
    "tuning_epoch_and_reg_df.to_csv(\"tuning_epoch_and_reg.csv\", index=False)"
   ]
  },
  {
   "cell_type": "code",
   "execution_count": 57,
   "metadata": {},
   "outputs": [
    {
     "data": {
      "image/png": "[encoded data removed]",
      "text/plain": [
       "<Figure size 432x288 with 1 Axes>"
      ]
     },
     "metadata": {
      "needs_background": "light"
     },
     "output_type": "display_data"
    }
   ],
   "source": [
    "fig = plt.figure()\n",
    "ax = plt.axes()\n",
    "plt.xlabel(\"regularisation constant\")\n",
    "plt.ylabel(\"mean validation rmse\")\n",
    "\n",
    "x1 = tuning_epoch_and_reg_df[tuning_epoch_and_reg_df[\"param_n_epochs\"] == 40][\"param_reg_all\"]\n",
    "y1 = tuning_epoch_and_reg_df[tuning_epoch_and_reg_df[\"param_n_epochs\"] == 40][\"mean_test_rmse\"]\n",
    "ax.plot(x1, y1)\n",
    "\n",
    "x2 = tuning_epoch_and_reg_df[tuning_epoch_and_reg_df[\"param_n_epochs\"] == 80][\"param_reg_all\"]\n",
    "y2 = tuning_epoch_and_reg_df[tuning_epoch_and_reg_df[\"param_n_epochs\"] == 80][\"mean_test_rmse\"]\n",
    "ax.plot(x2, y2)\n",
    "\n",
    "chartBox = ax.get_position()\n",
    "ax.set_position([chartBox.x0, chartBox.y0, chartBox.width, chartBox.height])\n",
    "ax.legend([\"40\", \"80\"], title=\"epochs\", loc='upper center', bbox_to_anchor=(1.1, 0.8), shadow=True, ncol=1)\n",
    "# plt.legend()\n",
    "plt.show()"
   ]
  },
  {
   "cell_type": "markdown",
   "metadata": {},
   "source": [
    "Training the model with higher number of epochs can result in a better performance. For the chosen number of epochs, the regularisation constant should reamin small."
   ]
  },
  {
   "cell_type": "markdown",
   "metadata": {},
   "source": [
    "##### Tune the number of factors"
   ]
  },
  {
   "cell_type": "code",
   "execution_count": 17,
   "metadata": {},
   "outputs": [],
   "source": [
    "param_grid = {'n_epochs': [80],\n",
    "              'reg_all': [0.1],\n",
    "              'n_factors': [120, 127, 135, 142, 150],\n",
    "             }\n",
    "gs = GridSearchCV(SVD, param_grid, measures=['rmse', 'mae'], cv=5)\n",
    "\n",
    "gs.fit(train_set)"
   ]
  },
  {
   "cell_type": "code",
   "execution_count": 18,
   "metadata": {},
   "outputs": [
    {
     "data": {
      "text/plain": [
       "{'rmse': {'n_epochs': 80, 'reg_all': 0.1, 'n_factors': 135},\n",
       " 'mae': {'n_epochs': 80, 'reg_all': 0.1, 'n_factors': 135}}"
      ]
     },
     "execution_count": 18,
     "metadata": {},
     "output_type": "execute_result"
    }
   ],
   "source": [
    "gs.best_params"
   ]
  },
  {
   "cell_type": "code",
   "execution_count": 19,
   "metadata": {},
   "outputs": [
    {
     "data": {
      "text/plain": [
       "{'rmse': 0.9198452031005063, 'mae': 0.7269879436415592}"
      ]
     },
     "execution_count": 19,
     "metadata": {},
     "output_type": "execute_result"
    }
   ],
   "source": [
    "gs.best_score"
   ]
  },
  {
   "cell_type": "code",
   "execution_count": 20,
   "metadata": {},
   "outputs": [],
   "source": [
    "tuning_n_factors_results = gs.cv_results"
   ]
  },
  {
   "cell_type": "code",
   "execution_count": 32,
   "metadata": {},
   "outputs": [],
   "source": [
    "tuning_n_factors_df = pd.DataFrame.from_dict(tuning_n_factors_results)"
   ]
  },
  {
   "cell_type": "code",
   "execution_count": 33,
   "metadata": {},
   "outputs": [],
   "source": [
    "tuning_n_factors_df.to_csv(\"tuning_n_factors.csv\", index=False)"
   ]
  },
  {
   "cell_type": "code",
   "execution_count": 59,
   "metadata": {},
   "outputs": [
    {
     "data": {
      "image/png": "[encoded data removed]",
      "text/plain": [
       "<Figure size 432x288 with 1 Axes>"
      ]
     },
     "metadata": {
      "needs_background": "light"
     },
     "output_type": "display_data"
    }
   ],
   "source": [
    "fig = plt.figure()\n",
    "ax = plt.axes()\n",
    "plt.xlabel(\"n_factors\")\n",
    "plt.ylabel(\"mean validation rmse\")\n",
    "\n",
    "x1 = tuning_n_factors_df[\"param_n_factors\"]\n",
    "y1 = tuning_n_factors_df[\"mean_test_rmse\"]\n",
    "ax.plot(x1, y1)\n",
    "\n",
    "plt.show()"
   ]
  },
  {
   "cell_type": "markdown",
   "metadata": {},
   "source": [
    "The model with 135 factors seem to have the lowest RMSE. However, the performance gain is not at all significant."
   ]
  },
  {
   "cell_type": "markdown",
   "metadata": {},
   "source": [
    "##### Tune the learning rate"
   ]
  },
  {
   "cell_type": "code",
   "execution_count": 62,
   "metadata": {},
   "outputs": [],
   "source": [
    "param_grid = {'n_epochs': [80],\n",
    "              'reg_all': [0.1],\n",
    "              'n_factors': [135],\n",
    "              'lr_all': [0.001, 0.0025, 0.005, 0.01, 0.05]\n",
    "             }\n",
    "gs = GridSearchCV(SVD, param_grid, measures=['rmse', 'mae'], cv=5)\n",
    "\n",
    "gs.fit(train_set)"
   ]
  },
  {
   "cell_type": "code",
   "execution_count": 64,
   "metadata": {},
   "outputs": [
    {
     "data": {
      "text/plain": [
       "{'rmse': {'n_epochs': 80, 'reg_all': 0.1, 'n_factors': 135, 'lr_all': 0.005},\n",
       " 'mae': {'n_epochs': 80, 'reg_all': 0.1, 'n_factors': 135, 'lr_all': 0.01}}"
      ]
     },
     "execution_count": 64,
     "metadata": {},
     "output_type": "execute_result"
    }
   ],
   "source": [
    "gs.best_params"
   ]
  },
  {
   "cell_type": "code",
   "execution_count": 65,
   "metadata": {},
   "outputs": [
    {
     "data": {
      "text/plain": [
       "{'rmse': 0.9201632948447933, 'mae': 0.7275779979884474}"
      ]
     },
     "execution_count": 65,
     "metadata": {},
     "output_type": "execute_result"
    }
   ],
   "source": [
    "gs.best_score"
   ]
  },
  {
   "cell_type": "code",
   "execution_count": 66,
   "metadata": {},
   "outputs": [],
   "source": [
    "tuning_lr_results = gs.cv_results"
   ]
  },
  {
   "cell_type": "code",
   "execution_count": 67,
   "metadata": {},
   "outputs": [],
   "source": [
    "tuning_lr_results_df = pd.DataFrame.from_dict(tuning_lr_results)"
   ]
  },
  {
   "cell_type": "code",
   "execution_count": 68,
   "metadata": {},
   "outputs": [],
   "source": [
    "tuning_lr_results_df.to_csv(\"tuning_lr_results.csv\", index=False)"
   ]
  },
  {
   "cell_type": "code",
   "execution_count": 69,
   "metadata": {},
   "outputs": [
    {
     "data": {
      "image/png": "[encoded data removed]",
      "text/plain": [
       "<Figure size 432x288 with 1 Axes>"
      ]
     },
     "metadata": {
      "needs_background": "light"
     },
     "output_type": "display_data"
    }
   ],
   "source": [
    "fig = plt.figure()\n",
    "ax = plt.axes()\n",
    "plt.xlabel(\"learning rate\")\n",
    "plt.ylabel(\"mean validation rmse\")\n",
    "\n",
    "x1 = tuning_lr_results_df[\"param_lr_all\"]\n",
    "y1 = tuning_lr_results_df[\"mean_test_rmse\"]\n",
    "ax.plot(x1, y1)\n",
    "\n",
    "plt.show()"
   ]
  },
  {
   "cell_type": "markdown",
   "metadata": {},
   "source": [
    "The learning rate of 0.005 provides the best performance."
   ]
  },
  {
   "cell_type": "markdown",
   "metadata": {},
   "source": [
    "##### Compare the baseline and tuned models on the test set"
   ]
  },
  {
   "cell_type": "code",
   "execution_count": 92,
   "metadata": {},
   "outputs": [],
   "source": [
    "# Load test set\n",
    "folds_files = [(\"./ml-100k/u1.base\", \"./ml-100k/u1.test\")]\n",
    "data = Dataset.load_from_folds(folds_files, reader=reader)\n",
    "pkf = PredefinedKFold()\n",
    "\n",
    "test_set = None\n",
    "for _, s in pkf.split(data):\n",
    "    test_set = s"
   ]
  },
  {
   "cell_type": "code",
   "execution_count": 93,
   "metadata": {},
   "outputs": [
    {
     "name": "stdout",
     "output_type": "stream",
     "text": [
      "RMSE: 0.9615\n"
     ]
    },
    {
     "data": {
      "text/plain": [
       "0.9615382766869889"
      ]
     },
     "execution_count": 93,
     "metadata": {},
     "output_type": "execute_result"
    }
   ],
   "source": [
    "# Baseline model\n",
    "accuracy.rmse(algorithm.test(test_set))"
   ]
  },
  {
   "cell_type": "code",
   "execution_count": 99,
   "metadata": {},
   "outputs": [
    {
     "data": {
      "text/plain": [
       "<surprise.prediction_algorithms.matrix_factorization.SVD at 0x1a2228edd8>"
      ]
     },
     "execution_count": 99,
     "metadata": {},
     "output_type": "execute_result"
    }
   ],
   "source": [
    "# Tuned model\n",
    "tuned_model = gs.best_estimator[\"rmse\"]\n",
    "tuned_model.fit(train_set.build_full_trainset())"
   ]
  },
  {
   "cell_type": "code",
   "execution_count": 100,
   "metadata": {},
   "outputs": [
    {
     "name": "stdout",
     "output_type": "stream",
     "text": [
      "RMSE: 0.9231\n"
     ]
    },
    {
     "data": {
      "text/plain": [
       "0.9231120676390854"
      ]
     },
     "execution_count": 100,
     "metadata": {},
     "output_type": "execute_result"
    }
   ],
   "source": [
    "accuracy.rmse(tuned_model.test(test_set))"
   ]
  },
  {
   "cell_type": "markdown",
   "metadata": {},
   "source": [
    "The tuned model performs much better than the baseline model on the test set"
   ]
  },
  {
   "cell_type": "code",
   "execution_count": null,
   "metadata": {},
   "outputs": [],
   "source": []
  }
 ],
 "metadata": {
  "kernelspec": {
   "display_name": "Python 3",
   "language": "python",
   "name": "python3"
  },
  "language_info": {
   "codemirror_mode": {
    "name": "ipython",
    "version": 3
   },
   "file_extension": ".py",
   "mimetype": "text/x-python",
   "name": "python",
   "nbconvert_exporter": "python",
   "pygments_lexer": "ipython3",
   "version": "3.7.3"
  }
 },
 "nbformat": 4,
 "nbformat_minor": 2
}
