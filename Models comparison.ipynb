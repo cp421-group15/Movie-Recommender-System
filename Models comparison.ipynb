{
 "cells": [
  {
   "cell_type": "code",
   "execution_count": 1,
   "metadata": {},
   "outputs": [],
   "source": [
    "import matplotlib.pyplot as plt\n",
    "import pandas as pd\n",
    "import seaborn as sns\n",
    "\n",
    "from surprise import accuracy\n",
    "from surprise import SVD, KNNBasic, KNNWithMeans\n",
    "from surprise import Reader\n",
    "from surprise import Dataset\n",
    "from surprise.model_selection import PredefinedKFold, GridSearchCV, train_test_split, cross_validate"
   ]
  },
  {
   "cell_type": "code",
   "execution_count": 2,
   "metadata": {},
   "outputs": [],
   "source": [
    "'''\n",
    "http://files.grouplens.org/datasets/movielens/ml-100k-README.txt\n",
    "'''\n",
    "\n",
    "# Attributes in the data file are tab separated (\\t).\n",
    "# User = user_id\n",
    "# Item = item_id\n",
    "# Rating = rating\n",
    "# Timestamp = timestamp\n",
    "reader = Reader(line_format=\"user item rating timestamp\", sep=\"\\t\", rating_scale=(1,5))\n",
    "\n",
    "train_set = Dataset.load_from_file('./ml-100k/u1.base', reader=reader)\n",
    "train_set = train_set.build_full_trainset()"
   ]
  },
  {
   "cell_type": "code",
   "execution_count": 3,
   "metadata": {},
   "outputs": [],
   "source": [
    "# Load test set\n",
    "folds_files = [(\"./ml-100k/u1.base\", \"./ml-100k/u1.test\")]\n",
    "data = Dataset.load_from_folds(folds_files, reader=reader)\n",
    "pkf = PredefinedKFold()\n",
    "\n",
    "test_set = None\n",
    "for _, s in pkf.split(data):\n",
    "    test_set = s"
   ]
  },
  {
   "cell_type": "code",
   "execution_count": 4,
   "metadata": {},
   "outputs": [],
   "source": [
    "accuracies = {\"rmse\": [], \"model\": []}"
   ]
  },
  {
   "cell_type": "code",
   "execution_count": 5,
   "metadata": {},
   "outputs": [
    {
     "name": "stdout",
     "output_type": "stream",
     "text": [
      "Computing the msd similarity matrix...\n",
      "Done computing similarity matrix.\n",
      "RMSE: 0.9894\n"
     ]
    }
   ],
   "source": [
    "knn_basic = KNNBasic(k=40, min_k=2, sim_options={'name': 'msd', 'user_based': True})\n",
    "knn_basic.fit(train_set)\n",
    "accuracies[\"rmse\"].append(accuracy.rmse(knn_basic.test(test_set)))\n",
    "accuracies[\"model\"].append(\"knn_basic_user_user\")"
   ]
  },
  {
   "cell_type": "code",
   "execution_count": 6,
   "metadata": {},
   "outputs": [
    {
     "name": "stdout",
     "output_type": "stream",
     "text": [
      "Computing the msd similarity matrix...\n",
      "Done computing similarity matrix.\n",
      "RMSE: 0.9649\n"
     ]
    }
   ],
   "source": [
    "knn_means = KNNWithMeans(k=60, min_k=4, sim_options={'name': 'msd', 'user_based': True})\n",
    "knn_means.fit(train_set)\n",
    "accuracies[\"rmse\"].append(accuracy.rmse(knn_means.test(test_set)))\n",
    "accuracies[\"model\"].append(\"knn_means_user_user\")"
   ]
  },
  {
   "cell_type": "code",
   "execution_count": 7,
   "metadata": {},
   "outputs": [
    {
     "name": "stdout",
     "output_type": "stream",
     "text": [
      "Computing the msd similarity matrix...\n",
      "Done computing similarity matrix.\n",
      "RMSE: 0.9974\n"
     ]
    }
   ],
   "source": [
    "knn_basic = KNNBasic(k=40, min_k=3, sim_options={'name': 'msd', 'user_based': False})\n",
    "knn_basic.fit(train_set)\n",
    "accuracies[\"rmse\"].append(accuracy.rmse(knn_basic.test(test_set)))\n",
    "accuracies[\"model\"].append(\"knn_basic_item_item\")"
   ]
  },
  {
   "cell_type": "code",
   "execution_count": 8,
   "metadata": {},
   "outputs": [
    {
     "name": "stdout",
     "output_type": "stream",
     "text": [
      "Computing the msd similarity matrix...\n",
      "Done computing similarity matrix.\n",
      "RMSE: 0.9481\n"
     ]
    }
   ],
   "source": [
    "knn_means = KNNWithMeans(k=60, min_k=1, sim_options={'name': 'msd', 'user_based': False})\n",
    "knn_means.fit(train_set)\n",
    "accuracies[\"rmse\"].append(accuracy.rmse(knn_means.test(test_set)))\n",
    "accuracies[\"model\"].append(\"knn_means_item_item\")"
   ]
  },
  {
   "cell_type": "code",
   "execution_count": 9,
   "metadata": {},
   "outputs": [
    {
     "name": "stdout",
     "output_type": "stream",
     "text": [
      "RMSE: 0.9225\n"
     ]
    }
   ],
   "source": [
    "svd = SVD(n_epochs=80, reg_all=0.1, n_factors=135, lr_all=0.005)\n",
    "svd.fit(train_set)\n",
    "accuracies[\"rmse\"].append(accuracy.rmse(svd.test(test_set)))\n",
    "accuracies[\"model\"].append(\"svd\")"
   ]
  },
  {
   "cell_type": "code",
   "execution_count": 15,
   "metadata": {},
   "outputs": [],
   "source": [
    "results = pd.DataFrame.from_dict(accuracies)\n",
    "results = results.sort_values(by=\"rmse\")"
   ]
  },
  {
   "cell_type": "code",
   "execution_count": 16,
   "metadata": {},
   "outputs": [
    {
     "data": {
      "text/plain": [
       "<matplotlib.axes._subplots.AxesSubplot at 0x1a2109c198>"
      ]
     },
     "execution_count": 16,
     "metadata": {},
     "output_type": "execute_result"
    },
    {
     "data": {
      "image/png": "[encoded data removed]",
      "text/plain": [
       "<Figure size 432x288 with 1 Axes>"
      ]
     },
     "metadata": {
      "needs_background": "light"
     },
     "output_type": "display_data"
    }
   ],
   "source": [
    "sns.barplot(x=\"rmse\", y=\"model\", orient=\"h\", data=results)"
   ]
  },
  {
   "cell_type": "markdown",
   "metadata": {},
   "source": [
    "We can see that the SVD model has slightly less errors than the KNN models."
   ]
  },
  {
   "cell_type": "code",
   "execution_count": null,
   "metadata": {},
   "outputs": [],
   "source": []
  }
 ],
 "metadata": {
  "kernelspec": {
   "display_name": "Python 3",
   "language": "python",
   "name": "python3"
  },
  "language_info": {
   "codemirror_mode": {
    "name": "ipython",
    "version": 3
   },
   "file_extension": ".py",
   "mimetype": "text/x-python",
   "name": "python",
   "nbconvert_exporter": "python",
   "pygments_lexer": "ipython3",
   "version": "3.7.3"
  }
 },
 "nbformat": 4,
 "nbformat_minor": 2
}
